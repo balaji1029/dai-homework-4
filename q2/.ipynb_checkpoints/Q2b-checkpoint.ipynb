{
 "cells": [
  {
   "cell_type": "markdown",
   "metadata": {},
   "source": [
    "# Q2b"
   ]
  },
  {
   "cell_type": "code",
   "execution_count": 1,
   "metadata": {
    "vscode": {
     "languageId": "plaintext"
    }
   },
   "outputs": [],
   "source": [
    "import pandas as pd\n",
    "from matplotlib import pyplot as plt\n",
    "from sklearn.metrics import mean_absolute_percentage_error\n",
    "import numpy as np"
   ]
  },
  {
   "cell_type": "markdown",
   "metadata": {},
   "source": [
    "Reading the data"
   ]
  },
  {
   "cell_type": "code",
   "execution_count": 2,
   "metadata": {},
   "outputs": [
    {
     "name": "stderr",
     "output_type": "stream",
     "text": [
      "/tmp/ipykernel_892280/1787535893.py:4: FutureWarning: Series.fillna with 'method' is deprecated and will raise in a future version. Use obj.ffill() or obj.bfill() instead.\n",
      "  data[column_name]=(data[column_name].fillna(method='ffill')+data[column_name].fillna(method='bfill'))//2\n",
      "/tmp/ipykernel_892280/1787535893.py:4: FutureWarning: Series.fillna with 'method' is deprecated and will raise in a future version. Use obj.ffill() or obj.bfill() instead.\n",
      "  data[column_name]=(data[column_name].fillna(method='ffill')+data[column_name].fillna(method='bfill'))//2\n",
      "/tmp/ipykernel_892280/1787535893.py:4: FutureWarning: Series.fillna with 'method' is deprecated and will raise in a future version. Use obj.ffill() or obj.bfill() instead.\n",
      "  data[column_name]=(data[column_name].fillna(method='ffill')+data[column_name].fillna(method='bfill'))//2\n",
      "/tmp/ipykernel_892280/1787535893.py:4: FutureWarning: Series.fillna with 'method' is deprecated and will raise in a future version. Use obj.ffill() or obj.bfill() instead.\n",
      "  data[column_name]=(data[column_name].fillna(method='ffill')+data[column_name].fillna(method='bfill'))//2\n",
      "/tmp/ipykernel_892280/1787535893.py:4: FutureWarning: Series.fillna with 'method' is deprecated and will raise in a future version. Use obj.ffill() or obj.bfill() instead.\n",
      "  data[column_name]=(data[column_name].fillna(method='ffill')+data[column_name].fillna(method='bfill'))//2\n",
      "/tmp/ipykernel_892280/1787535893.py:4: FutureWarning: Series.fillna with 'method' is deprecated and will raise in a future version. Use obj.ffill() or obj.bfill() instead.\n",
      "  data[column_name]=(data[column_name].fillna(method='ffill')+data[column_name].fillna(method='bfill'))//2\n",
      "/tmp/ipykernel_892280/1787535893.py:4: FutureWarning: Series.fillna with 'method' is deprecated and will raise in a future version. Use obj.ffill() or obj.bfill() instead.\n",
      "  data[column_name]=(data[column_name].fillna(method='ffill')+data[column_name].fillna(method='bfill'))//2\n"
     ]
    }
   ],
   "source": [
    "data=pd.read_csv('AirtrafficA4.csv')    \n",
    "for column_name in ['TOTAL DEPARTURES','HOURS FLOWN','KILOMETRE FLOWN','PASSENGERS CARRIED','AVAILABLE SEAT KILOMETRE (IN THOUSAND)', ' FREIGHT CARRIED (IN TONNE)','MAIL CARRIED (IN TONNE)']:\n",
    "    data[column_name]=data[column_name].str.replace(',','').astype(float)\n",
    "    data[column_name]=(data[column_name].fillna(method='ffill')+data[column_name].fillna(method='bfill'))//2"
   ]
  },
  {
   "cell_type": "code",
   "execution_count": 3,
   "metadata": {},
   "outputs": [],
   "source": [
    "data['NUMERIC_MONTH'] = data['MONTH'].str.strip().map({\n",
    "    'JAN': 1, 'FEB': 2, 'MAR': 3, 'APR': 4, 'MAY': 5, 'JUN': 6, 'JUNE': 6, 'JULY': 7,\n",
    "    'JUL': 7, 'AUG': 8, 'SEP': 9, 'OCT': 10, 'NOV': 11, 'DEC': 12\n",
    "})\n",
    "# print(pd.date_range(start='01-01-2013', end='09-01-2023', freq='M'))\n",
    "data.sort_values(by=['YEAR', 'NUMERIC_MONTH'], inplace=True)\n",
    "# data['ds'] = pd.to_datetime(pd.date_range(start='01-01-2013', periods=128, freq='d'))\n",
    "data['ds']=pd.date_range(start='01-01-2013', end='09-01-2023', freq='ME')"
   ]
  },
  {
   "cell_type": "markdown",
   "metadata": {},
   "source": [
    "Making a string to generate the Prompt string"
   ]
  },
  {
   "cell_type": "code",
   "execution_count": 4,
   "metadata": {},
   "outputs": [
    {
     "data": {
      "text/plain": [
       "'1408012,1341210,1423569,1511094,1685168,1480879,1445248,1531406,1378691,1510184,1467763,1575872,1426580,1464070,1601141,1679963,1908334,1797101,1599977,1858664,1907378,1890273,1967992,2324221,2276404,2230645,2286128,2481285,2769283,2536554,2416916,2384943,2430449,2589861,2597765,2743325,2725711,2754131,3023228,3066556,3336839,3023081,3383768,3341081,3295826,3692828,3772583,3848322,3809228,3418605,3611371,3778780,4190914,3825814,3699451,3678245,3664509,4133027,4131844,4430070,4556904,4290189,4576236,4579916,4852909,4672686,5002416,4757378,4920335,5074853,5005919,5478523,5321832,4930608,5440796,5481088,5979551,5778376,5693448,5540693,5559031,5842318,6151347,6188457,6119924,5931189,3793464,1967859,142254,1046836,1272240,1681787,2265539,2926835,3423059,3951522,4202712,4238466,4184920,3083318,1168738,1701955,2932469,3816286,3958375,4807415,5706021,6140654,3556558,3950597,5783838,5957411,6376429,5982787,5711288,5832025,5972449,6471441,6500903,6997472'"
      ]
     },
     "execution_count": 4,
     "metadata": {},
     "output_type": "execute_result"
    }
   ],
   "source": [
    "string=\",\".join([str(int(float(str(val)))) for val in data['PASSENGERS CARRIED'].iloc[:-8].values])\n",
    "string"
   ]
  },
  {
   "cell_type": "markdown",
   "metadata": {},
   "source": [
    "Reading the LLM's output"
   ]
  },
  {
   "cell_type": "code",
   "execution_count": 8,
   "metadata": {},
   "outputs": [],
   "source": [
    "with open(\"output.txt\", \"r\") as file:\n",
    "    output=file.readlines()\n",
    "    output=np.array([int(line.split(\":\")[1].strip().replace(\",\",\"\")) for line in output])"
   ]
  },
  {
   "cell_type": "code",
   "execution_count": 9,
   "metadata": {},
   "outputs": [
    {
     "data": {
      "text/plain": [
       "0.02819609594218353"
      ]
     },
     "execution_count": 9,
     "metadata": {},
     "output_type": "execute_result"
    }
   ],
   "source": [
    "mean_absolute_percentage_error(data['PASSENGERS CARRIED'].iloc[-8:].values, output)"
   ]
  },
  {
   "cell_type": "code",
   "execution_count": 10,
   "metadata": {},
   "outputs": [
    {
     "data": {
      "text/plain": [
       "array([6950000, 7100000, 7270000, 7450000, 7600000, 7770000, 7940000,\n",
       "       8120000])"
      ]
     },
     "execution_count": 10,
     "metadata": {},
     "output_type": "execute_result"
    }
   ],
   "source": [
    "output"
   ]
  },
  {
   "cell_type": "code",
   "execution_count": null,
   "metadata": {},
   "outputs": [],
   "source": []
  },
  {
   "cell_type": "code",
   "execution_count": null,
   "metadata": {},
   "outputs": [],
   "source": []
  }
 ],
 "metadata": {
  "kernelspec": {
   "display_name": "Python 3 (ipykernel)",
   "language": "python",
   "name": "python3"
  },
  "language_info": {
   "codemirror_mode": {
    "name": "ipython",
    "version": 3
   },
   "file_extension": ".py",
   "mimetype": "text/x-python",
   "name": "python",
   "nbconvert_exporter": "python",
   "pygments_lexer": "ipython3",
   "version": "3.12.3"
  }
 },
 "nbformat": 4,
 "nbformat_minor": 2
}
